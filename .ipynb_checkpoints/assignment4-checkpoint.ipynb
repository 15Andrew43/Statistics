{
 "cells": [
  {
   "cell_type": "markdown",
   "metadata": {
    "id": "BPeEof8hRhyT"
   },
   "source": [
    "# Курс \"Практикум по математической статистике\"\n",
    "# 3 курс ФПМИ МФТИ, осень 2020\n",
    "## Домашнее задание 4. Доверительные интервалы\n",
    "### Дедлайн --- 29 ноября 9:00\n",
    "\n",
    "Мы предлагаем выполнять задания прямо в этом ноутбуке. **Пожалуйста, не стирайте условия задач и не переименовывайте ноутбук!**\n",
    "\n",
    "В этом и последующих заданиях вам потребуется выполнять генерацию случайных величин из некоторого распределения. Для этого вам понадобится библиотека scipy.stats. Мы настоятельно рекомендуем для генерации выборок использовать именно эту библиотеку.\n",
    "\n",
    "Настоятельно рекомендуемая форма оформления домашних заданий — это Jupyter Notebook с:\n",
    "\n",
    "* условием задачи,\n",
    "* решением (если требуется некоторый теоретический вывод),\n",
    "* описанием плана решения, который потом реализуется в коде, \n",
    "* собственно кодом, \n",
    "* построенными графиками (если это требуется) и **выводом**, который как правило должен заключаться в объяснении практических результатов с использованием теоретических фактов. ***Вывод требуется даже в том случае, если в условии об этом явно не сказано!***\n",
    "* некоторыми другими вещами, если об этом будет указано в задании.\n",
    "\n",
    "Оценка за каждую задачу складывается из правильного выполнения всех этих пунктов. Закрывая на них глаза, вы сознательно понижаете свою оценку.\n",
    "\n",
    "Каждая задача оценивается **в 10 баллов**."
   ]
  },
  {
   "cell_type": "code",
   "execution_count": null,
   "metadata": {
    "ExecuteTime": {
     "end_time": "2020-11-02T01:01:21.941173Z",
     "start_time": "2020-11-02T01:01:18.135337Z"
    },
    "id": "fxGOSRrPRX2_"
   },
   "outputs": [],
   "source": [
    "import numpy as np\n",
    "import pandas as pd\n",
    "import matplotlib.pyplot as plt\n",
    "import seaborn as sns\n",
    "import scipy.stats as sps\n",
    "\n",
    "from tqdm.notebook import tqdm\n",
    "from typing import Callable\n",
    "\n",
    "sns.set(font_scale=1.4, style='whitegrid', palette='Set2')"
   ]
  },
  {
   "cell_type": "markdown",
   "metadata": {
    "id": "1TjTUnc0RX3D"
   },
   "source": [
    "## Задача 1"
   ]
  },
  {
   "cell_type": "markdown",
   "metadata": {
    "id": "bc3aonAOSfJY"
   },
   "source": [
    "Сгенерируйте выборку $X_1, ...,X_{100}$ из распределения $P_\\theta$.\n",
    "\n",
    "Для уровня доверия $\\alpha = 0.95$ для всех $n \\leq 100$\n",
    "изобразите на графиках в координатах $(n, \\theta)$\n",
    "* Доверительный интервал оценки $\\widehat{\\theta}$\n",
    "* График оценки $\\widehat{\\theta}$\n",
    "* Точки выборки\n",
    "\n",
    "Для отрисовки доверительного интервала используйте `plt.fill_between`. Не забывайте про параметр `alpha`.\n",
    "\n",
    "Для того, чтобы избежать дублирования кода, рекомендуем написать функцию `draw_confidence_interval`, изображающую на графике все необходимое."
   ]
  },
  {
   "cell_type": "code",
   "execution_count": null,
   "metadata": {
    "id": "mLn69v1TLNXC"
   },
   "outputs": [],
   "source": [
    "# YOUR CODE GOES HERE"
   ]
  },
  {
   "cell_type": "markdown",
   "metadata": {
    "id": "d3cD6CJ0VMVi"
   },
   "source": [
    "Выполните задание для следующих $P_\\theta$ и $\\widehat{\\theta}$ (формулы доверительных итервалов были получены на семинарах):"
   ]
  },
  {
   "cell_type": "markdown",
   "metadata": {
    "id": "YDfdX660RX3H"
   },
   "source": [
    "### 1. Равномерное распределение, $\\theta = 10$, оценка $\\widehat{\\theta} = X_{(n)}$"
   ]
  },
  {
   "cell_type": "code",
   "execution_count": null,
   "metadata": {
    "ExecuteTime": {
     "end_time": "2020-11-02T01:52:26.682942Z",
     "start_time": "2020-11-02T01:52:26.249957Z"
    },
    "id": "76AzwSdsRX3H"
   },
   "outputs": [],
   "source": [
    "# YOUR CODE GOES HERE"
   ]
  },
  {
   "cell_type": "markdown",
   "metadata": {
    "id": "3_C6Eu68RX3L"
   },
   "source": [
    "### 2. Распределение Коши, $\\theta = 10$, оценка — медиана"
   ]
  },
  {
   "cell_type": "code",
   "execution_count": null,
   "metadata": {
    "ExecuteTime": {
     "end_time": "2020-11-02T01:53:49.879644Z",
     "start_time": "2020-11-02T01:53:49.429655Z"
    },
    "id": "0ZvKPXC9RX3L"
   },
   "outputs": [],
   "source": [
    "# YOUR CODE GOES HERE"
   ]
  },
  {
   "cell_type": "markdown",
   "metadata": {
    "id": "c4L14lrLRX3O"
   },
   "source": [
    "### 3. Распределение Пуассона, $\\theta = 10$, оценка $\\widehat{\\theta} = \\overline{X}$"
   ]
  },
  {
   "cell_type": "code",
   "execution_count": null,
   "metadata": {
    "ExecuteTime": {
     "end_time": "2020-11-02T01:56:25.845043Z",
     "start_time": "2020-11-02T01:56:25.424557Z"
    },
    "id": "Zp9pBOwGRX3P"
   },
   "outputs": [],
   "source": [
    "# YOUR CODE GOES HERE"
   ]
  },
  {
   "cell_type": "markdown",
   "metadata": {
    "id": "crhk3u1YTFBa"
   },
   "source": [
    "### 4. Гамма-распределение, $(\\theta, \\lambda) = (10, 3)$, $\\lambda$ известна"
   ]
  },
  {
   "cell_type": "code",
   "execution_count": null,
   "metadata": {
    "id": "KmLLtooWVwiC"
   },
   "outputs": [],
   "source": [
    "# YOUR CODE GOES HERE"
   ]
  },
  {
   "cell_type": "markdown",
   "metadata": {
    "id": "JV442rIiVzFE"
   },
   "source": [
    "Сделайте выводы о размерах и форме доверительных интервалов для каждого случая."
   ]
  },
  {
   "cell_type": "markdown",
   "metadata": {
    "id": "vhUjN-s5RX3R"
   },
   "source": [
    "# Задача 2"
   ]
  },
  {
   "cell_type": "markdown",
   "metadata": {
    "id": "oyzJBniTWAt4"
   },
   "source": [
    "Для $n = 100$ оцените для кажого пункта предыдущей задачи вероятность попадания истинного значения\n",
    "$\\theta$ в интервал. Для этого нужно сделать слудующее:\n",
    "1. Сгенерируйте достаточно много выборок из $P_{\\theta}$\n",
    "2. Постройте по каждой из них интервалы для $\\widehat{\\theta}$\n",
    "3. Определите, сколько раз истинное значение $\\theta.$ попадает в построенные интервалы. Таким способом будет\n",
    "построена бернуллиевская выборка, по ней оцените вероятность.\n",
    "\n",
    "Предположите, какое количество выборок нужно взять. Обоснуйте свой выбор."
   ]
  },
  {
   "cell_type": "markdown",
   "metadata": {
    "id": "N5hRM6AxXYsk"
   },
   "source": [
    "__Ответ:__"
   ]
  },
  {
   "cell_type": "code",
   "execution_count": null,
   "metadata": {
    "ExecuteTime": {
     "end_time": "2020-11-02T02:15:03.801103Z",
     "start_time": "2020-11-02T02:15:03.797334Z"
    },
    "id": "zVGZ2_OqRX3S"
   },
   "outputs": [],
   "source": [
    "# YOUR CODE GOES HERE"
   ]
  },
  {
   "cell_type": "markdown",
   "metadata": {
    "id": "BxyZvjPwRX3X"
   },
   "source": [
    "### Равномерное распределение"
   ]
  },
  {
   "cell_type": "code",
   "execution_count": null,
   "metadata": {
    "ExecuteTime": {
     "end_time": "2020-11-02T02:22:23.064587Z",
     "start_time": "2020-11-02T02:22:18.949258Z"
    },
    "id": "lrcFkK5eRX3X"
   },
   "outputs": [],
   "source": [
    "# YOUR CODE GOES HERE"
   ]
  },
  {
   "cell_type": "markdown",
   "metadata": {
    "id": "Asohup2dRX3a"
   },
   "source": [
    "### Распределение Коши"
   ]
  },
  {
   "cell_type": "code",
   "execution_count": null,
   "metadata": {
    "ExecuteTime": {
     "end_time": "2020-11-02T02:24:50.725624Z",
     "start_time": "2020-11-02T02:24:45.571134Z"
    },
    "id": "a6ZNh6_4RX3a"
   },
   "outputs": [],
   "source": [
    "# YOUR CODE GOES HERE"
   ]
  },
  {
   "cell_type": "markdown",
   "metadata": {
    "id": "vP-J38s5RX3d"
   },
   "source": [
    "### Распределение Пуассона"
   ]
  },
  {
   "cell_type": "code",
   "execution_count": null,
   "metadata": {
    "ExecuteTime": {
     "end_time": "2020-11-02T02:27:42.416082Z",
     "start_time": "2020-11-02T02:27:28.919990Z"
    },
    "id": "UZ9EY1ADRX3d"
   },
   "outputs": [],
   "source": [
    "# YOUR CODE GOES HERE"
   ]
  },
  {
   "cell_type": "markdown",
   "metadata": {
    "id": "-09DTi4eXvqb"
   },
   "source": [
    "### Гамма-распределение"
   ]
  },
  {
   "cell_type": "code",
   "execution_count": null,
   "metadata": {
    "id": "-IPJFnSp9P5p"
   },
   "outputs": [],
   "source": [
    "# YOUR CODE GOES HERE"
   ]
  },
  {
   "cell_type": "markdown",
   "metadata": {
    "id": "kOgCLV5lXeni"
   },
   "source": [
    "Сделайте выводы."
   ]
  },
  {
   "cell_type": "markdown",
   "metadata": {
    "id": "gBtcueTpRX3f"
   },
   "source": [
    "# Задача 3"
   ]
  },
  {
   "cell_type": "markdown",
   "metadata": {
    "id": "23BQcaKlYBvE"
   },
   "source": [
    "В этой задаче мы построим точный и асимптотический доверительный интевалы для нормального распределения и сравним их."
   ]
  },
  {
   "cell_type": "markdown",
   "metadata": {
    "id": "4sBK-z3ZYfFm"
   },
   "source": [
    "Пусть $X_1, \\dots, X_n$ — выборка из нормального распределения со средним $a$ и дисперсией $\\sigma^2$, причем $\\sigma$ неизвестна. Выпишите формулы\n",
    "\n",
    "* точного доверительного итервала уровня доверия $\\alpha$ для $a$:\n",
    "\n",
    "* асимптотического доверительного итервала уровня доверия $\\alpha$ для $a$\n"
   ]
  },
  {
   "cell_type": "markdown",
   "metadata": {
    "id": "HasamoyFeqIF"
   },
   "source": [
    "Для $n=30, \\,a = 0$ постройте __на одном графике__ точный и асимптотический доверительный интервал, а также отметьте линией истинное значение $a$"
   ]
  },
  {
   "cell_type": "code",
   "execution_count": null,
   "metadata": {
    "ExecuteTime": {
     "end_time": "2020-11-02T02:31:01.510919Z",
     "start_time": "2020-11-02T02:31:01.504893Z"
    },
    "id": "bCiOEJ4BRX3g"
   },
   "outputs": [],
   "source": [
    "def calculate_conf_interval(\n",
    "    sample: np.ndarray, \n",
    "    alpha: float = 0.95\n",
    "):\n",
    "    \"\"\"Вычисление точного доверительного интервала уровня доверия alpha. \"\"\"\n",
    "    # YOUR CODE GOES HERE\n",
    "    pass"
   ]
  },
  {
   "cell_type": "code",
   "execution_count": null,
   "metadata": {
    "ExecuteTime": {
     "end_time": "2020-11-02T02:31:02.078213Z",
     "start_time": "2020-11-02T02:31:02.072474Z"
    },
    "id": "eOb4KniZRX3i"
   },
   "outputs": [],
   "source": [
    "def calculate_asymptotic_conf_interval(\n",
    "    sample: np.ndatrray, \n",
    "    alpha: float = 0.95\n",
    "):\n",
    "    \"\"\"Вычисление асимптотического доверительного интервала уровня доверия alpha. \"\"\"\n",
    "    # YOUR CODE GOES HERE\n",
    "    pass"
   ]
  },
  {
   "cell_type": "code",
   "execution_count": null,
   "metadata": {
    "ExecuteTime": {
     "end_time": "2020-11-02T02:42:24.143942Z",
     "start_time": "2020-11-02T02:42:23.637329Z"
    },
    "id": "KYJ_eUWXRX3k"
   },
   "outputs": [],
   "source": [
    "# YOUR CODE GOES HERE"
   ]
  },
  {
   "cell_type": "markdown",
   "metadata": {
    "id": "KKYNukTKfD2e"
   },
   "source": [
    "Сделайте выводы. В каких случаях уместно использовать асимптотический интервал вместо точного?"
   ]
  },
  {
   "cell_type": "markdown",
   "metadata": {
    "id": "LM3PwA9vRX3n"
   },
   "source": [
    "# Задача 4"
   ]
  },
  {
   "cell_type": "markdown",
   "metadata": {
    "id": "b-X-pPjxfaIE"
   },
   "source": [
    "В этой задаче мы проанализируем изменение индекса качества воздуха (air quality index, AQI) для двух мегаполисов Индии за последние годы. Данные взяты с Kaggle (https://www.kaggle.com/rohanrao/air-quality-data-in-india)"
   ]
  },
  {
   "cell_type": "code",
   "execution_count": null,
   "metadata": {
    "colab": {
     "base_uri": "https://localhost:8080/"
    },
    "id": "tdWWWkvzHz1L",
    "outputId": "6ded9580-ef7c-4574-ae9c-4304c7caf26b"
   },
   "outputs": [
    {
     "name": "stdout",
     "output_type": "stream",
     "text": [
      "Downloading...\n",
      "From: https://drive.google.com/uc?id=1Y_mE_jlEF82UDf41l1LFMDHX_LHvF2SC\n",
      "To: /content/city_day.csv\n",
      "\r",
      "  0% 0.00/2.57M [00:00<?, ?B/s]\r",
      "100% 2.57M/2.57M [00:00<00:00, 82.4MB/s]\n"
     ]
    }
   ],
   "source": [
    "!gdown https://drive.google.com/uc?id=1Y_mE_jlEF82UDf41l1LFMDHX_LHvF2SC "
   ]
  },
  {
   "cell_type": "markdown",
   "metadata": {
    "id": "lEeM99f3gEw_"
   },
   "source": [
    "Загрузите файл `city_day.csv`. Нам понадобятся столбцы `City`, `Date` и `AQI`. При этом учтите, что:\n",
    "* В дальнейшем мы будем работать с датами, поэтому используйте аргумент `parse_dates` чтобы корректо их распарсить\n",
    "* Данные содержат пропуски, которые нужно удалить"
   ]
  },
  {
   "cell_type": "code",
   "execution_count": null,
   "metadata": {
    "ExecuteTime": {
     "end_time": "2020-11-02T01:01:39.027620Z",
     "start_time": "2020-11-02T01:01:38.868053Z"
    },
    "id": "Gy2G18IZRX3n",
    "scrolled": true
   },
   "outputs": [],
   "source": [
    "# YOUR CODE GOES HERE"
   ]
  },
  {
   "cell_type": "markdown",
   "metadata": {
    "id": "qtfPM1zDlMGQ"
   },
   "source": [
    "Для удобства сохраните в отдельные поля `Month` и `Year` соответственно год и месяц, когда производились замеры"
   ]
  },
  {
   "cell_type": "code",
   "execution_count": null,
   "metadata": {
    "ExecuteTime": {
     "end_time": "2020-11-02T01:01:39.708476Z",
     "start_time": "2020-11-02T01:01:39.478777Z"
    },
    "id": "efHFTqTMRX3p"
   },
   "outputs": [],
   "source": [
    "# YOUR CODE GOES HERE"
   ]
  },
  {
   "cell_type": "markdown",
   "metadata": {
    "id": "sygpVEY0le0y"
   },
   "source": [
    "Нас будут интересовать два города: Мумбаи (Mumbai) и Калькутта (Kolkata). Сохраните данные по этим двум городам для всех днней с 1 июля 2018 года включительно"
   ]
  },
  {
   "cell_type": "code",
   "execution_count": null,
   "metadata": {
    "ExecuteTime": {
     "end_time": "2020-11-02T01:01:40.138121Z",
     "start_time": "2020-11-02T01:01:40.112329Z"
    },
    "id": "hKosUUpQRX3s"
   },
   "outputs": [],
   "source": [
    "mumbai = ...\n",
    "kolkata = ..."
   ]
  },
  {
   "cell_type": "markdown",
   "metadata": {
    "id": "DqmB69R_nz4g"
   },
   "source": [
    "В предыдущих задачах мы строили доверительные интервалы в предположении, что выборка взята из параметрического семейства распределений. Но что делать в случае, когда подобное предположение сделать нельзя? Оказывается, в этом случае можно строить доверительный интервал с помощью бутстрепа.\n",
    "\n",
    "Пусть $X_1, \\dots, X_n$ — выборка, для которой мы хотим оценить некоторую величину $\\theta$. Построим $k$ бутстепных выборок, и получим по ним оценки $\\theta^*_1, \\dots, \\theta^*_k$. Отсортируем их, чтобы получить вариационный ряд $\\theta^*_{(1)}, \\dots, \\theta^*_{(k)}$. Тогда получим, что\n",
    "$$\n",
    "C^* = \\left(\\theta^*_{(\\lfloor k (1 + \\alpha) / 2 \\rfloor)},\n",
    "\\theta^*_{(\\lceil k (1 - \\alpha) / 2 \\rceil)} \\right)\n",
    "$$\n",
    "будет (приблизительным) доверительным интервалом для $\\theta$ уровня доверия $\\alpha$."
   ]
  },
  {
   "cell_type": "markdown",
   "metadata": {
    "id": "a32wk3HCvmbU"
   },
   "source": [
    "Для каждого месяца с июля 2018 по июнь 2020 включтельно постройте бутстрепный доверительный интервал для __среднего значения AQI__. В этом вам помогут следующие вспомогательные функции:"
   ]
  },
  {
   "cell_type": "code",
   "execution_count": null,
   "metadata": {
    "ExecuteTime": {
     "end_time": "2020-11-02T01:01:40.561892Z",
     "start_time": "2020-11-02T01:01:40.549303Z"
    },
    "id": "XsrMjx5uRX3u"
   },
   "outputs": [],
   "source": [
    "def get_dataset_by_month(\n",
    "    df: pd.DataFrame, \n",
    "    year: int,\n",
    "    month: int\n",
    "):\n",
    "    \"\"\" Сохранение в массив данные для указанного месяца и года.\"\"\"\n",
    "    \n",
    "    # YOUR CODE GOES HERE\n",
    "    pass"
   ]
  },
  {
   "cell_type": "code",
   "execution_count": null,
   "metadata": {
    "ExecuteTime": {
     "end_time": "2020-11-02T01:01:40.983504Z",
     "start_time": "2020-11-02T01:01:40.977086Z"
    },
    "id": "Kfs4Sd1uRX3w"
   },
   "outputs": [],
   "source": [
    "def get_bootstrap_samples(\n",
    "    sample: np.ndarray,\n",
    "    k: int = 1000\n",
    "):\n",
    "    \"\"\" Построение k бутстрепных выборок для указанной выборки. \"\"\"\n",
    "    \n",
    "    # YOUR CODE GOES HERE\n",
    "    pass"
   ]
  },
  {
   "cell_type": "code",
   "execution_count": null,
   "metadata": {
    "ExecuteTime": {
     "end_time": "2020-11-02T01:01:41.502115Z",
     "start_time": "2020-11-02T01:01:41.493715Z"
    },
    "id": "B6lzgS_IRX3y"
   },
   "outputs": [],
   "source": [
    "def bootstrap_conf_interval(\n",
    "    sample: np.ndarray,\n",
    "    estimator: Callable = lambda x: np.mean(x, axis=-1),\n",
    "    alpha: float = 0.95,\n",
    "):\n",
    "    \"\"\" Построение бутстрепных доверительных интервалов. \"\"\"\n",
    "    \n",
    "    # YOUR CODE GOES HERE\n",
    "    pass"
   ]
  },
  {
   "cell_type": "code",
   "execution_count": null,
   "metadata": {
    "ExecuteTime": {
     "end_time": "2020-11-02T01:01:52.624648Z",
     "start_time": "2020-11-02T01:01:41.931636Z"
    },
    "id": "yquuEAYnRX31"
   },
   "outputs": [],
   "source": [
    "# YOUR CODE GOES HERE"
   ]
  },
  {
   "cell_type": "markdown",
   "metadata": {
    "id": "H1Jg2UW3y4a7"
   },
   "source": [
    "Постройте на одном графике доверительные интервалы для Мумбаи и Калькутты. Также отметьте точками на графике истинный средний AQI и соедините точки линиями. Проследите за тем, чтобы графики, относящиеся к одному городу, были одного цвета."
   ]
  },
  {
   "cell_type": "code",
   "execution_count": null,
   "metadata": {
    "ExecuteTime": {
     "end_time": "2020-11-02T02:40:04.326831Z",
     "start_time": "2020-11-02T02:40:03.741742Z"
    },
    "id": "G-WCfBAURX33"
   },
   "outputs": [],
   "source": [
    "ym = mumbai[['Year', 'Month']].drop_duplicates().values[:-1]\n",
    "labels = [f\"{year}-{month}\" for year, month in ym] # номера месяцев для подписей на графике \n",
    "\n",
    "\n",
    "# YOUR CODE GOES HERE"
   ]
  },
  {
   "cell_type": "markdown",
   "metadata": {
    "id": "gGTM6CE48VT_"
   },
   "source": [
    "Посмотрите на получившийся график. Видны ли в нем какие-либо закономерности? С чем они могут быть связаны?"
   ]
  },
  {
   "cell_type": "markdown",
   "metadata": {
    "id": "rthUj72b9aGI"
   },
   "source": [
    "Теперь давайте сравним качество воздуха в апреле 2019 и апреле 2020 годов. Постройте __на одном графике__\n",
    "* доверительные интервалы для апреля 2019 и апреля 2020 для Мумбаи\n",
    "* истинные средние значения (с помощью `plt.hlines`)\n",
    "* точки выборки\n",
    "\n",
    "Проследите за тем, чтобы графики, относящиеся к одному городу, были одного цвета."
   ]
  },
  {
   "cell_type": "code",
   "execution_count": null,
   "metadata": {
    "ExecuteTime": {
     "end_time": "2020-11-02T02:40:09.782421Z",
     "start_time": "2020-11-02T02:40:09.211228Z"
    },
    "id": "MZ7_-1XZRX35"
   },
   "outputs": [],
   "source": [
    "# YOUR CODE GOES HERE"
   ]
  },
  {
   "cell_type": "markdown",
   "metadata": {
    "id": "5aVvliwv-AxA"
   },
   "source": [
    "Теперь проделайте то же самое для Калькутты"
   ]
  },
  {
   "cell_type": "code",
   "execution_count": null,
   "metadata": {
    "ExecuteTime": {
     "end_time": "2020-11-02T02:40:15.400714Z",
     "start_time": "2020-11-02T02:40:14.747606Z"
    },
    "id": "gq5XLmWNRX38",
    "scrolled": false
   },
   "outputs": [],
   "source": [
    "# YOUR CODE GOES HERE"
   ]
  },
  {
   "cell_type": "markdown",
   "metadata": {
    "id": "Umag1ZY6-Fdw"
   },
   "source": [
    "Сделайте выводы. Что можно сказать про доверительные интервалы в каждом из случаев?"
   ]
  }
 ],
 "metadata": {
  "colab": {
   "collapsed_sections": [],
   "name": "hw4.ipynb",
   "provenance": []
  },
  "hide_input": false,
  "kernelspec": {
   "display_name": "Python 3",
   "language": "python",
   "name": "python3"
  },
  "language_info": {
   "codemirror_mode": {
    "name": "ipython",
    "version": 3
   },
   "file_extension": ".py",
   "mimetype": "text/x-python",
   "name": "python",
   "nbconvert_exporter": "python",
   "pygments_lexer": "ipython3",
   "version": "3.8.8"
  },
  "varInspector": {
   "cols": {
    "lenName": 16,
    "lenType": 16,
    "lenVar": 40
   },
   "kernels_config": {
    "python": {
     "delete_cmd_postfix": "",
     "delete_cmd_prefix": "del ",
     "library": "var_list.py",
     "varRefreshCmd": "print(var_dic_list())"
    },
    "r": {
     "delete_cmd_postfix": ") ",
     "delete_cmd_prefix": "rm(",
     "library": "var_list.r",
     "varRefreshCmd": "cat(var_dic_list()) "
    }
   },
   "types_to_exclude": [
    "module",
    "function",
    "builtin_function_or_method",
    "instance",
    "_Feature"
   ],
   "window_display": false
  }
 },
 "nbformat": 4,
 "nbformat_minor": 1
}
