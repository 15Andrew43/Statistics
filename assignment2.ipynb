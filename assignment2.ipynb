{
 "cells": [
  {
   "cell_type": "markdown",
   "metadata": {
    "id": "EHQon6kICsxP"
   },
   "source": [
    "# Курс \"Практикум по математической статистике\"\n",
    "# 3 курс ФПМИ МФТИ, осень 2020\n",
    "## Домашнее задание 2. Методы нахождения оценок\n",
    "### Дедлайн --- 16 октября 9:00\n",
    "\n",
    "Это первое обязательное домашнее задание нашего курса. Мы предлагаем выполнять задания прямо в этом ноутбуке. Пожалуйста, не стирайте условия задач.\n",
    "\n",
    "Информация о выполнении и курсе в целом есть в <a href=https://docs.google.com/document/d/1kd85QRAS8fbxRxpMzP2IsbQ_YcVsU-Aczqd6ErXgIDg/edit#>этой папке</a>.\n",
    "\n",
    "В этом и последующих заданиях вам потребуется выполнять генерацию случайных величин из некоторого распределения. Для этого вам понадобится библиотека scipy.stats. Мы настоятельно рекомендуем для генерации выборок использовать именно эту библиотеку.\n",
    "\n",
    "Настоятельно рекомендуемая форма оформления домашних заданий — это Jupyter Notebook и его pdf-версия с:\n",
    "\n",
    "* условием задачи,\n",
    "* решением (если требуется некоторый теоретический вывод),\n",
    "* описанием плана решения, который потом реализуется в коде, \n",
    "* собственно кодом, \n",
    "* построенными графиками (если это требуется) и **выводом**, который как правило должен заключаться в объяснении практических результатов с использованием теоретических фактов. ***Вывод требуется даже в том случае, если в условии об этом явно не сказано!***\n",
    "* некоторыми другими вещами, если об этом будет указано в задании.\n",
    "\n",
    "Оценка за каждую задачу складывается из правильного выполнения всех этих пунктов. Закрывая на них глаза, вы сознательно понижаете свою оценку.\n",
    "\n",
    "Каждая задача оценивается в 10 баллов, если не оговорено иного."
   ]
  },
  {
   "cell_type": "markdown",
   "metadata": {
    "id": "OpvLoS6Svhp5"
   },
   "source": [
    "Загрузим все необходимые датасеты. Если что-то пошло не так, то просто скачайте файлы по ссылке вручную."
   ]
  },
  {
   "cell_type": "code",
   "execution_count": 1,
   "metadata": {
    "colab": {
     "base_uri": "https://localhost:8080/"
    },
    "id": "_gdSaS5cUd7r",
    "outputId": "eb867f36-a2ab-4df3-c1c8-69b6ce1b1c0c"
   },
   "outputs": [
    {
     "name": "stdout",
     "output_type": "stream",
     "text": [
      "\u001b[33mDEPRECATION: Configuring installation scheme with distutils config files is deprecated and will no longer work in the near future. If you are using a Homebrew or Linuxbrew Python, please see discussion at https://github.com/Homebrew/homebrew-core/issues/76621\u001b[0m\n",
      "\u001b[33m  DEPRECATION: Configuring installation scheme with distutils config files is deprecated and will no longer work in the near future. If you are using a Homebrew or Linuxbrew Python, please see discussion at https://github.com/Homebrew/homebrew-core/issues/76621\u001b[0m\n",
      "\u001b[33m  DEPRECATION: Configuring installation scheme with distutils config files is deprecated and will no longer work in the near future. If you are using a Homebrew or Linuxbrew Python, please see discussion at https://github.com/Homebrew/homebrew-core/issues/76621\u001b[0m\n",
      "\u001b[33m  DEPRECATION: Configuring installation scheme with distutils config files is deprecated and will no longer work in the near future. If you are using a Homebrew or Linuxbrew Python, please see discussion at https://github.com/Homebrew/homebrew-core/issues/76621\u001b[0m\n",
      "\u001b[33mDEPRECATION: Configuring installation scheme with distutils config files is deprecated and will no longer work in the near future. If you are using a Homebrew or Linuxbrew Python, please see discussion at https://github.com/Homebrew/homebrew-core/issues/76621\u001b[0m\n",
      "\u001b[33mWARNING: You are using pip version 21.2.3; however, version 21.3 is available.\n",
      "You should consider upgrading via the '/usr/local/opt/python@3.9/bin/python3.9 -m pip install --upgrade pip' command.\u001b[0m\n",
      "Access denied with the following error:\n",
      "\n",
      " \tCannot retrieve the public link of the file. You may need to change\n",
      "\tthe permission to 'Anyone with the link', or have had many accesses. \n",
      "\n",
      "You may still be able to access the file from the browser:\n",
      "\n",
      "\t https://drive.google.com/uc?id=1fMQ0H-_E4U25XHB2SH7ryoZPLG2MHlLQ \n",
      "\n",
      "Downloading...\n",
      "From: https://drive.google.com/uc?id=1cJywRii7wBZa0B2uAvvu56JFCLPnlOSs\n",
      "To: /Users/avborovets/Desktop/PROGA/Statistics/Statistics/Weibull.csv\n",
      "100%|██████████████████████████████████████| 17.9k/17.9k [00:00<00:00, 18.3MB/s]\n"
     ]
    }
   ],
   "source": [
    "!pip install -q gdown\n",
    "!gdown https://drive.google.com/uc?id=1fMQ0H-_E4U25XHB2SH7ryoZPLG2MHlLQ\n",
    "!gdown https://drive.google.com/uc?id=1cJywRii7wBZa0B2uAvvu56JFCLPnlOSs"
   ]
  },
  {
   "cell_type": "code",
   "execution_count": 178,
   "metadata": {
    "id": "-gBMMLPW-Zbx"
   },
   "outputs": [],
   "source": [
    "import pandas as pd\n",
    "import numpy as np\n",
    "from scipy import stats as sps\n",
    "\n",
    "from matplotlib import pyplot as plt\n",
    "import seaborn as sns\n",
    "\n",
    "sns.set(style=\"darkgrid\", font_scale=1.4)"
   ]
  },
  {
   "cell_type": "markdown",
   "metadata": {
    "id": "BDuDaPpNsYbX"
   },
   "source": [
    "## Задача 1\n",
    "\n",
    "На высоте 1 метр от поверхности Земли закреплено устройство,\n",
    "которое периодически излучает лучи на поверхность Земли (считайте,\n",
    "что поверхность Земли представляет из себя прямую). Пусть $l$ —\n",
    "перпендикуляр к поверхности Земли, опущенный из точки, в которой\n",
    "закреплено устройство. Угол к прямой $l$ (под которым происходит\n",
    "излучение) устройство выбирает случайно из равномерного\n",
    "распределения на отрезке $\\left(-\\frac{\\pi}{2}, \\frac{\\pi}{2}\\right)$ (все выборы\n",
    "осуществляются независимо). В этих предположениях точки пересечения\n",
    "с поверхностью имеют распределение Коши с плотностью $p(x) =\n",
    "\\frac{1}{\\pi(1 + (x-x_0)^2)}.$ Неизвестный параметр сдвига $x_0$\n",
    "соответствует проекции точки расположения устройства на поверхность\n",
    "Земли (направление оси и начало координат на поверхности Земли\n",
    "выбраны заранее некоторым образом независимо от расположения\n",
    "устройства). В файле `Cauchy.csv` находятся координаты точек\n",
    "пересечения лучей с поверхностью Земли."
   ]
  },
  {
   "cell_type": "code",
   "execution_count": 179,
   "metadata": {
    "id": "qziY8mPRs-8V"
   },
   "outputs": [],
   "source": [
    "cauchy_sample = pd.read_csv(\"Cauchy.csv\")[\"sample\"].values"
   ]
  },
  {
   "cell_type": "markdown",
   "metadata": {
    "id": "OV1dncHt_JVZ"
   },
   "source": [
    " Оцените параметр сдвига\n",
    "методом максимального правдоподобия \n",
    "* по первым 10 измерениям\n",
    "* по первым 100 измерениям\n",
    "* по всей выборке. \n",
    "\n",
    "Оценку произведите по сетке (т.е. возьмите набор\n",
    "точек с некоторым шагом и верните ту, на которой достигается\n",
    "максимум функции правдоподобия). Известно, что параметр сдвига принадлежит интервалу $[-1000, 1000].$ Выберите шаг равным 0.01. Интервал можете итеративно уменьшать, но не стоит делать его длину меньше 50.\n"
   ]
  },
  {
   "cell_type": "code",
   "execution_count": 180,
   "metadata": {},
   "outputs": [],
   "source": [
    "left_bound = 210 - 25\n",
    "right_bound = 210 + 25"
   ]
  },
  {
   "cell_type": "code",
   "execution_count": 181,
   "metadata": {},
   "outputs": [],
   "source": [
    "def f_caushy_pdf(sample, k, x_0):\n",
    "    return np.prod(k / (np.pi * (1 + (sample - x_0) ** 2)))"
   ]
  },
  {
   "cell_type": "code",
   "execution_count": 254,
   "metadata": {},
   "outputs": [],
   "source": [
    "def maximum_likelihood_method(density, sample, left_bound, right_bound, k=10, cnt=100):\n",
    "    range_values_x0 = np.linspace(left_bound, right_bound, cnt)\n",
    "    array = np.array([density(sample, k, x_0) for x_0 in range_values_x0])\n",
    "    x_0 = range_values_x0[np.argmax(array)]\n",
    "    return x_0  "
   ]
  },
  {
   "cell_type": "code",
   "execution_count": 183,
   "metadata": {
    "id": "HvtCqJwQ_Y8X"
   },
   "outputs": [
    {
     "name": "stdout",
     "output_type": "stream",
     "text": [
      "208.73737373737373\n",
      "207.72727272727272\n",
      "207.72727272727272\n"
     ]
    }
   ],
   "source": [
    "# YOUR_CODE_GOES_HERE\n",
    "\n",
    "n_elem = [10, 100, len(cauchy_sample)]\n",
    "\n",
    "for n in n_elem:\n",
    "    print(maximum_likelihood_method(f_caushy_pdf, cauchy_sample[:n], left_bound, right_bound))\n"
   ]
  },
  {
   "cell_type": "markdown",
   "metadata": {
    "id": "bzK4vSm6CMcf"
   },
   "source": [
    "Сравните полученные результаты с `sps.cauchy.fit`"
   ]
  },
  {
   "cell_type": "code",
   "execution_count": 184,
   "metadata": {},
   "outputs": [
    {
     "name": "stdout",
     "output_type": "stream",
     "text": [
      "208.50577017532487\n",
      "207.87882548487846\n",
      "207.97772827944334\n"
     ]
    }
   ],
   "source": [
    "for n in n_elem:\n",
    "    print(sps.cauchy.fit(cauchy_sample[:n])[0])"
   ]
  },
  {
   "cell_type": "markdown",
   "metadata": {},
   "source": [
    "Получаем, что $x_0 = 207.978 \\pm 0.001$. Также не трудно заметить, чем больше выборка, тем точнее истинное значение, но для этого пришлось поподбирать значение коэффициента $k$, который нужен для того, чтобы проводить операции с не очень маленькими и не очень большими значениями (для того, чтобы точность не уменьшалась)."
   ]
  },
  {
   "cell_type": "markdown",
   "metadata": {
    "id": "OlA6SdwSC17C"
   },
   "source": [
    "## Задача 2\n",
    "В банкомате \"Тинькофф\" в Новом Корпусе МФТИ каждую минуту подсчитывается баланс по\n",
    "сравнению с началом дня (6 часов утра). В полночь работники банка\n",
    "измеряют две величины: $X^1$ – максимальное значение баланса за\n",
    "день, $X^2$ – значение баланса в полночь. Считается, что величина\n",
    "$X = X^1 - X^2$ имеет распределение Вейбулла с функцией распределения $F(x) = 1 - e^{-x^\\gamma} (x > 0),$ где $\\gamma > 0$ –\n",
    "параметр формы. В течение 10 лет каждый день банк проводил\n",
    "измерение величины $X,$ получив в результате выборку $X_1, \\ldots,\n",
    "X_{3652}.$ В файле Weibull.csv находятся соответствующие измерения."
   ]
  },
  {
   "cell_type": "code",
   "execution_count": 188,
   "metadata": {
    "id": "VD3ZwsBFDc4H"
   },
   "outputs": [],
   "source": [
    "weibull_sample = np.loadtxt(\"Weibull.csv\")"
   ]
  },
  {
   "cell_type": "markdown",
   "metadata": {
    "id": "_FwkM_jtz_4l"
   },
   "source": [
    "Постройте гистограмму выборки. Не забудьте подобрать `xlim`, `ylim` и параметр `bins`, чтобы гистограмма была информативна"
   ]
  },
  {
   "cell_type": "code",
   "execution_count": 230,
   "metadata": {
    "id": "atb1afDD0FV1"
   },
   "outputs": [
    {
     "data": {
      "image/png": "[encoded data removed]",
      "text/plain": [
       "<Figure size 432x288 with 1 Axes>"
      ]
     },
     "metadata": {},
     "output_type": "display_data"
    }
   ],
   "source": [
    "# YOUR_CODE_GOES_HERE\n",
    "\n",
    "# plt.figure(figsize=(10, 10))\n",
    "\n",
    "plt.hist(\n",
    "    weibull_sample,\n",
    "    bins=50\n",
    ")\n",
    "\n",
    "plt.xlabel('X')\n",
    "plt.ylabel('cnt')\n",
    "\n",
    "plt.xlim(0, 100)\n",
    "plt.ylim(0, 250)\n",
    "\n",
    "plt.show()"
   ]
  },
  {
   "cell_type": "markdown",
   "metadata": {
    "id": "nAkJW7cjDu3N"
   },
   "source": [
    "Проведем небольшой предварительный анализ. Итак, если наши данные распределены согласно распределению Вейбулла, то справедливы следующие рассуждения:\n",
    "$$\n",
    "\\begin{aligned} F(x) &=1-e^{-(x)^{\\gamma}} \\\\-\\ln (1-F(x)) &=x^{\\gamma} \\\\ \\underbrace{\\ln (-\\ln (1-F(x)))}_{y^{\\prime}} &=\\underbrace{\\gamma \\ln x}_{\\text {kx }^{\\prime}} \\end{aligned}\n",
    "$$\n",
    "А значит и\n",
    "$$\n",
    "\\underbrace{\\ln (-\\ln (1-\\hat{F}(x)))}_{y^{\\prime}} ≈\\underbrace{\\gamma \\ln x}_{\\text {kx }^{\\prime}}\n",
    "$$\n",
    "\n",
    "\n",
    "Однако здесь мы сталкиваемся с проблемой: в нашей выборке есть нули. А логарифм нуля, как известно, не определен. Мы предлагаем вам сравнить два способа рещения этой проблемы:\n",
    "\n",
    "1. Отбросить нули до построения эмпирической функции распределения $\\hat{F}(x)$\n",
    "2. Построить эмпирическую функцию, а затем учитывать только те точки, x-координата которых положительна.\n",
    "\n",
    "Для первого способа отфильтруйте выборку в ячейке ниже"
   ]
  },
  {
   "cell_type": "code",
   "execution_count": 222,
   "metadata": {
    "id": "zTzy8nUnDGRE"
   },
   "outputs": [],
   "source": [
    "# YOUR_CODE_GOES_HERE\n",
    "\n",
    "filtered_sample = np.array(list(filter(lambda x: x > 0, weibull_sample)))"
   ]
  },
  {
   "cell_type": "markdown",
   "metadata": {
    "id": "Zs-WKaKTDHiN"
   },
   "source": [
    "Для каждого способа подсчитайте эмпирическую функцию распределения и \n",
    "$$y\\prime = \\ln (-\\ln (1-\\hat{F}(x))) \\quad x' = ln x$$\n",
    " где $x$ – элементы исходной выборки. "
   ]
  },
  {
   "cell_type": "code",
   "execution_count": 236,
   "metadata": {
    "id": "sIERIgdmJcm0"
   },
   "outputs": [],
   "source": [
    "from statsmodels.distributions.empirical_distribution import ECDF\n",
    "\n",
    "# YOUR_CODE_GOES_HERE\n",
    "\n",
    "ecdf0 = ECDF(filtered_sample)\n",
    "ecdf1 = ECDF(weibull_sample)\n",
    "\n",
    "lnx = np.log(filtered_sample)\n",
    "\n",
    "res_ecdf0 = np.array(list(map(lambda x: min(0.999, x), ecdf0(filtered_sample))))\n",
    "res_ecdf1 = np.array(list(map(lambda x: min(0.999, x), ecdf1(filtered_sample))))\n",
    "\n",
    "y0 = np.log(-np.log(1 - res_ecdf0))\n",
    "y1 = np.log(-np.log(1 - res_ecdf1))\n"
   ]
  },
  {
   "cell_type": "markdown",
   "metadata": {
    "id": "crJFoUDuBhU3"
   },
   "source": [
    "Постройте график (`plt.scatter`) для первого способа красным цветом, а для второго — синим. Не забудьте про `alpha=0.05` и легенду. Такой график называется `Weibull plot` и является аналогом `qqplot` для распределения Вейбулла."
   ]
  },
  {
   "cell_type": "code",
   "execution_count": 260,
   "metadata": {
    "id": "ra3ckkhyBhh1",
    "scrolled": true
   },
   "outputs": [
    {
     "data": {
      "image/png": "[encoded data removed]",
      "text/plain": [
       "<Figure size 432x288 with 1 Axes>"
      ]
     },
     "metadata": {},
     "output_type": "display_data"
    }
   ],
   "source": [
    "# YOUR_CODE_GOES_HERE\n",
    "\n",
    "# plt.figure(figsize=(5, 5))\n",
    "\n",
    "\n",
    "plt.scatter(\n",
    "    lnx,\n",
    "    y0,\n",
    "    color='red',\n",
    "    alpha=0.05,\n",
    "    s=10,\n",
    "    label='with filtering'\n",
    ")\n",
    "plt.scatter(\n",
    "    lnx,\n",
    "    y1,\n",
    "    color='blue',\n",
    "    alpha=0.05,\n",
    "    s=10,\n",
    "    label='without filtering'\n",
    ")\n",
    "\n",
    "plt.legend()\n",
    "plt.xlabel('$ln(x)$')\n",
    "plt.ylabel('$ln(-ln(1 - \\hat{F}(x)))$')\n",
    "\n",
    "plt.show()"
   ]
  },
  {
   "cell_type": "markdown",
   "metadata": {
    "id": "zKGPK8JwJ5N4"
   },
   "source": [
    "Сделайте вывод. Какой способ вам кажется более правильным и почему?\n",
    "\n",
    "**Вывод**"
   ]
  },
  {
   "cell_type": "markdown",
   "metadata": {
    "id": "UBOygE7gDt7A"
   },
   "source": [
    "Оцените параметр формы методом максимального правдоподобия \n",
    "* по\n",
    "первым 4 годам; \n",
    "* по всей выборке.\n",
    "Оценку произведите по сетке (в\n",
    "логарифмической шкале). Известно, что $\\log_{10}\\gamma \\in [-2, 2].$\n",
    "Выберите шаг равным $10^{-3}.$"
   ]
  },
  {
   "cell_type": "code",
   "execution_count": 280,
   "metadata": {},
   "outputs": [],
   "source": [
    "def f_weibull_pdf(sample, k, x_0):\n",
    "    n = len(sample)\n",
    "    return  np.sum((x_0 + (np.exp(x_0) - 1) * np.log(sample) - sample ** np.exp(x_0)))"
   ]
  },
  {
   "cell_type": "code",
   "execution_count": 281,
   "metadata": {},
   "outputs": [],
   "source": [
    "def maximum_likelihood_method1(density, sample, left_bound, right_bound, k=10, cnt=100):\n",
    "    range_values_x0 = np.linspace(left_bound, right_bound, cnt)\n",
    "    array = np.array([density(sample, k, x_0) for x_0 in range_values_x0])\n",
    "    x_0 = range_values_x0[np.argmax(array)]\n",
    "    return x_0  "
   ]
  },
  {
   "cell_type": "code",
   "execution_count": 283,
   "metadata": {
    "id": "NvCf9yhPFEai"
   },
   "outputs": [
    {
     "name": "stdout",
     "output_type": "stream",
     "text": [
      "0.4195431223142999\n",
      "0.4195431223142999\n"
     ]
    }
   ],
   "source": [
    "# YOUR_CODE_GOES_HERE\n",
    "for n in [4 * 365, len(filtered_sample)]:\n",
    "    lnx_0 = maximum_likelihood_method1(f_weibull_pdf, filtered_sample[0:n], -2 / np.log(10), 2 / np.log(10), 1, 4000)\n",
    "    print(np.exp(lnx_0))"
   ]
  },
  {
   "cell_type": "markdown",
   "metadata": {
    "id": "lSQssL3sQY-7"
   },
   "source": [
    "Сравните результаты с `sps.weibull.fit(sample_2, fscale=1, floc=0)`"
   ]
  },
  {
   "cell_type": "code",
   "execution_count": 286,
   "metadata": {
    "id": "ndy12wcaQGkB"
   },
   "outputs": [
    {
     "data": {
      "text/plain": [
       "(0.41025390624999947, 0, 1)"
      ]
     },
     "execution_count": 286,
     "metadata": {},
     "output_type": "execute_result"
    }
   ],
   "source": [
    "# YOUR_CODE_GOES_HERE\n",
    "\n",
    "sps.weibull_min.fit(filtered_sample, fscale=1, floc=0)"
   ]
  },
  {
   "cell_type": "markdown",
   "metadata": {
    "id": "xwVgFpvTQydc"
   },
   "source": [
    "Постройте график $y = \\gamma \\cdot x$ для всех полученных $\\gamma$ (`plt.plot`) и `scatter plot` из предыдущего пункта ($y\\prime \\ x\\prime$) для того метода, который вам кажется более правильным. Хорошо ли линии соответствуют выборке? Как вы думаете, почему?\n",
    "\n",
    "**Вывод**"
   ]
  },
  {
   "cell_type": "code",
   "execution_count": null,
   "metadata": {},
   "outputs": [],
   "source": []
  },
  {
   "cell_type": "markdown",
   "metadata": {
    "id": "25Vh2cHzaGdp"
   },
   "source": [
    "## Задача 3"
   ]
  },
  {
   "cell_type": "markdown",
   "metadata": {
    "id": "Az5RayZ6bTd2"
   },
   "source": [
    "Сгенерируйте выборки $X_1, \\ldots, X_N$ из $\\mathit{N}(0, \\theta)$, $U(0, \\theta)$, $\\Gamma(1, \\theta)$ (**параметризация $k, \\theta$**), $\\theta = 3$ для всех распределений $(N = 1000).$ Для всех $n \\leq N$ посчитайте значения оценок (по выборке $X_1, \\ldots X_n$) методом моментов. Постройте график ошибки оценки от реального значения ($|\\hat\\theta - \\theta|_{l_1}$) относительно размера выборки."
   ]
  },
  {
   "cell_type": "code",
   "execution_count": null,
   "metadata": {
    "id": "tbuZSbISYN4b"
   },
   "outputs": [],
   "source": [
    "# YOUR_CODE_GOES_HERE"
   ]
  },
  {
   "cell_type": "markdown",
   "metadata": {
    "id": "C51ez7fCjK-m"
   },
   "source": [
    "### Бутстреп\n",
    "\n",
    "Для реальных данных часто сложно подобрать распределение и нужную параметризацию относительно $\\theta$. Кроме того на практике сложно посчитать дисперсию оценки (для этого хотя бы нужно знать распределение, из которого пришла выборка). На помощь в таких случаях приходит **бутстреп**.\n",
    "\n",
    "Идея очень простая. Давайте возьмем нашу выборку размера $N$ и сгенерируем из нее еще $K$ выборок. Более формально для каждой бутстрепной выборки N раз будем выбирать элементы из исходной выборки с возвращением. Полученная таким образом выборка будет содержать $\\approx 63$% уникальных элементов, но это не страшно. Для всех $K$ выборок посчитаем оценку $\\hat\\theta$. Таким образом мы получим $K$ оценок параметра. Можно показать, что если размер бутстрепных выборок и исходной совпадают, то оценка дисперсии $s^2(\\hat\\theta)$, полученная из $K$ оценок, будет *хорошей*.\n",
    "\n",
    "Для каждого распределения из предыдущего пункта (Пожалуйста, не пишите цикл по распределениям. Сделайте три отдельные ячейки) для каждого $K$ из `[10] + [50] + list(range(100, 1001, 100))` сгенерируйте K бутстрепных выборок и посчитайте дисперсию бутстрепных оценок и посчитайте среднее по K выборкам. Размер бутстрепной выборки сделайте равным $K$, незабудьте уменьшить размер исходной выборки до $K$. Постройте график следующим образом: по оси $x$ отложите значения $K$, красной линией обозначьте среднее значение $\\hat\\theta$ бутстрепных выборок для каждого $K$. Посчитайте стандартное отклонение оценки для каждого $K$ и закрасьте интервал $\\mu(k) \\pm \\sigma(\\hat\\theta)$ (`plt.fillbetween`).\n",
    "\n"
   ]
  },
  {
   "cell_type": "code",
   "execution_count": null,
   "metadata": {
    "id": "x80V3Nsyvv-X"
   },
   "outputs": [],
   "source": [
    "# YOUR_CODE_GOES_HERE"
   ]
  }
 ],
 "metadata": {
  "colab": {
   "collapsed_sections": [],
   "name": "assignment2.ipynb",
   "provenance": []
  },
  "kernelspec": {
   "display_name": "Python 3 (ipykernel)",
   "language": "python",
   "name": "python3"
  },
  "language_info": {
   "codemirror_mode": {
    "name": "ipython",
    "version": 3
   },
   "file_extension": ".py",
   "mimetype": "text/x-python",
   "name": "python",
   "nbconvert_exporter": "python",
   "pygments_lexer": "ipython3",
   "version": "3.9.6"
  }
 },
 "nbformat": 4,
 "nbformat_minor": 1
}
