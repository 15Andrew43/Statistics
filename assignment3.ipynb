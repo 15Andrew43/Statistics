{
  "nbformat": 4,
  "nbformat_minor": 0,
  "metadata": {
    "colab": {
      "name": "hw3.ipynb",
      "provenance": [],
      "collapsed_sections": []
    },
    "kernelspec": {
      "name": "python3",
      "display_name": "Python 3"
    }
  },
  "cells": [
    {
      "cell_type": "markdown",
      "metadata": {
        "id": "_YoIth0VwcIP"
      },
      "source": [
        "# Курс \"Практикум по математической статистике\"\n",
        "# 3 курс ФПМИ МФТИ, осень 2020\n",
        "## Домашнее задание 3. Сравнение оценок и эффективные оценки\n",
        "### Дедлайн --- 13 ноября 9:00\n",
        "\n",
        "Мы предлагаем выполнять задания прямо в этом ноутбуке. Пожалуйста, не стирайте условия задач.\n",
        "\n",
        "\n",
        "В этом и последующих заданиях вам потребуется выполнять генерацию случайных величин из некоторого распределения. Для этого вам понадобится библиотека `scipy.stats`. Мы настоятельно рекомендуем для генерации выборок использовать именно эту библиотеку.\n",
        "\n",
        "Настоятельно рекомендуемая форма оформления домашних заданий — это Jupyter Notebook c:\n",
        "\n",
        "* условием задачи,\n",
        "* решением (если требуется некоторый теоретический вывод),\n",
        "* описанием плана решения, который потом реализуется в коде, \n",
        "* собственно кодом, \n",
        "* построенными графиками (если это требуется) и **выводом**, который как правило должен заключаться в объяснении практических результатов с использованием теоретических фактов. ***Вывод требуется даже в том случае, если в условии об этом явно не сказано!***\n",
        "* некоторыми другими вещами, если об этом будет указано в задании.\n",
        "\n",
        "Оценка за каждую задачу складывается из правильного выполнения всех этих пунктов. Закрывая на них глаза, вы сознательно понижаете свою оценку.\n",
        "\n",
        "Каждая задача оценивается **в 15 баллов**.\n",
        "\n",
        "## Пожалуйста, не переименовывайте этот ноутбук"
      ]
    },
    {
      "cell_type": "code",
      "metadata": {
        "id": "RcJukql-soI3",
        "colab": {
          "base_uri": "https://localhost:8080/",
          "height": 34
        },
        "outputId": "19e3bb2d-d064-471c-9fff-4e51f4c067c2"
      },
      "source": [
        "import numpy as np\n",
        "from scipy import stats as sps\n",
        "import seaborn as sns\n",
        "from matplotlib import pyplot as plt\n",
        "sns.set(style=\"darkgrid\", font_scale=1.4)\n",
        "\n",
        "%pylab inline"
      ],
      "execution_count": null,
      "outputs": [
        {
          "output_type": "stream",
          "text": [
            "Populating the interactive namespace from numpy and matplotlib\n"
          ],
          "name": "stdout"
        }
      ]
    },
    {
      "cell_type": "markdown",
      "metadata": {
        "id": "XgHJEtD3ISLE"
      },
      "source": [
        "## Задача 1\n",
        "\n",
        "Сгенерируйте выборку из трех распределений: нормального, Лапласа и Коши размера `N=500`.\n",
        "\n",
        "Далее для всех графиков в этом задании используйте обозначенные цвета для каждого из распределений (даже если графики будут на разных осях). То есть если график касается нормального распределения то рисуйте его синим цветом."
      ]
    },
    {
      "cell_type": "code",
      "metadata": {
        "id": "eO08M7w1s7pq"
      },
      "source": [
        "color_for_normal=sns.color_palette(\"colorblind\")[0]\n",
        "color_for_laplace=sns.color_palette(\"colorblind\")[1]\n",
        "color_for_cauchy=sns.color_palette(\"colorblind\")[2]\n",
        "\n",
        "N=500\n",
        "\n",
        "norm_distr = sps.norm()\n",
        "laplacian_distr = sps.laplace()\n",
        "cauchy_distr = sps.cauchy()\n",
        "np.random.seed(2020)\n",
        "#YOUR CODE GOES HERE"
      ],
      "execution_count": null,
      "outputs": []
    },
    {
      "cell_type": "markdown",
      "metadata": {
        "id": "BbHbViTDJc_j"
      },
      "source": [
        "Постройте график плотности распределения для всех трех распределений на одних осях."
      ]
    },
    {
      "cell_type": "code",
      "metadata": {
        "id": "UxwHRg4Ote0B"
      },
      "source": [
        "#YOUR CODE GOES HERE"
      ],
      "execution_count": null,
      "outputs": []
    },
    {
      "cell_type": "markdown",
      "metadata": {
        "id": "SEatRXILKMxu"
      },
      "source": [
        "Подумайте для каких распределений сложнее найти значение математического ожидания по выборке? Почему?\n",
        "\n",
        "**Ответ:**"
      ]
    },
    {
      "cell_type": "markdown",
      "metadata": {
        "id": "7g57xzatKcPj"
      },
      "source": [
        "Часто, в реальной жизни, мы сталкиваемся с данными в которых есть выбросы возникшие, например, из-за опечаток. Пусть в выборке содержится 99 точек на интервале $[0;1]$ и один элемент равный 300. Тогда среднее значение нашей выборки будет не меньше трех. Ясно, что так дело не пойдет, что же делать?\n",
        "\n",
        "Можно использовать медиану или **усеченное среднее**.\n",
        "\n",
        "**Усеченное среднее порядка $\\alpha$** это среднее составленное из выборки от которой отрезаны $\\alpha$ и $1 - \\alpha$ квантили. Как ее получить?\n",
        "\n",
        "\n",
        "1.   Отсортировать выборку\n",
        "2.   Отрезать первые и последние ($\\alpha \\cdot \\text{размер выборки}$) элементов выборки\n",
        "3.   Посчитать среднее полученной выборки\n",
        "\n",
        "Напишите функцию для подсчета этой статистики."
      ]
    },
    {
      "cell_type": "code",
      "metadata": {
        "id": "bzMG7mBft9pa"
      },
      "source": [
        "import math\n",
        "\n",
        "def truncated_mean(sample, alpha=0.3):\n",
        "    #YOUR CODE GOES HERE\n",
        "    return None"
      ],
      "execution_count": null,
      "outputs": []
    },
    {
      "cell_type": "markdown",
      "metadata": {
        "id": "Ke2dEdjbV_zo"
      },
      "source": [
        "**Теорема**\n",
        "Пусть распределение симметрично относительно нуля и имеет одну моду в нуле, тогда асимптотическая дисперсия усеченного среднего порядка $\\alpha$ может быть выражена по формуле:\n",
        "$$\n",
        "\\sigma^2(\\alpha) = 2\\cdot\\frac{\\int_0^{u_{1 - \\alpha}} x^2 dF(x) + \\alpha\\cdot(u_{1 - \\alpha})^2}{(1 - 2\\alpha)^2},\n",
        "$$\n",
        "\n",
        "где $u_\\alpha$ – квантиль порядка $\\alpha$.\n",
        "\n",
        "Напишите функцию, которая это делает.\n",
        "\n",
        "*Подсказка.* Для численного интегрирования используйте функцию `quad` из модуля `scipy.integrate`"
      ]
    },
    {
      "cell_type": "code",
      "metadata": {
        "id": "beGNmTuQ7lZL"
      },
      "source": [
        "from scipy.integrate import quad\n",
        "\n",
        "def asymp_var(distr, alpha):\n",
        "    #YOUR CODE GOES HERE\n",
        "    return None"
      ],
      "execution_count": null,
      "outputs": []
    },
    {
      "cell_type": "markdown",
      "metadata": {
        "id": "Mh97uSSpaowj"
      },
      "source": [
        "Постройте графики для фсимптотической дисперсии в зависимости от $\\alpha$ для всех трех распределений на назных осях (используйте `plt.subplots(1, 3, figsize=(21,7))`). **Не забудьте про цвета**. Для загаловка графика используйте `ax[i].set_title`, для заголовка всей картинки используйте `fig.suptitle`."
      ]
    },
    {
      "cell_type": "code",
      "metadata": {
        "id": "CjGb3S3yakLB"
      },
      "source": [
        "alpha_grid = np.linspace(0.05, 0.49999, 100)\n",
        "\n",
        "#YOUR CODE GOES HERE"
      ],
      "execution_count": null,
      "outputs": []
    },
    {
      "cell_type": "markdown",
      "metadata": {
        "id": "OBT0ivF7cAl7"
      },
      "source": [
        "Как можно интепретировать такой график? Напишите развернутый вывод.\n",
        "\n",
        "*Подсказка.* Подумайте, какой известной оценке соответствует усеченное среднее порядка 0.5? А порядка 0?\n",
        "\n",
        "**Ответ:**"
      ]
    },
    {
      "cell_type": "markdown",
      "metadata": {
        "id": "_mSTQYgsc1QI"
      },
      "source": [
        "Для каждого распределение на отдельном графике постройте значение трех оценок: среднего, медианы и усученного среднего порядка $0.35$. Для усеченного среднего проведите линию пунктиром (`fmt=\"--\"`), для медианы точечками (`fmt=\":\"`). **Не забудьте про цвета**. То есть цвета на одном графике одинаковые, разные оценки отличает только формат линии.\n",
        "\n",
        "**Ниже посчитайте все оценки необходимые для всех распределений**"
      ]
    },
    {
      "cell_type": "code",
      "metadata": {
        "id": "9IdnJcUGvvEs"
      },
      "source": [
        "#YOUR CODE GOES HERE"
      ],
      "execution_count": null,
      "outputs": []
    },
    {
      "cell_type": "markdown",
      "metadata": {
        "id": "hChc2D81ecue"
      },
      "source": [
        "**Нормальное распределение**"
      ]
    },
    {
      "cell_type": "code",
      "metadata": {
        "id": "Znzk8ZjRwTkb"
      },
      "source": [
        "#YOUR CODE GOES HERE"
      ],
      "execution_count": null,
      "outputs": []
    },
    {
      "cell_type": "markdown",
      "metadata": {
        "id": "J1Id0LhYe5Xe"
      },
      "source": [
        "**Распределение Лапласа**"
      ]
    },
    {
      "cell_type": "code",
      "metadata": {
        "id": "EbiCjxOQ5es9"
      },
      "source": [
        "#YOUR CODE GOES HERE"
      ],
      "execution_count": null,
      "outputs": []
    },
    {
      "cell_type": "markdown",
      "metadata": {
        "id": "VcIWcplpfH4D"
      },
      "source": [
        "**Распределение Коши**"
      ]
    },
    {
      "cell_type": "code",
      "metadata": {
        "id": "MRwPHUzZ5gna"
      },
      "source": [
        "#YOUR CODE GOES HERE"
      ],
      "execution_count": null,
      "outputs": []
    },
    {
      "cell_type": "markdown",
      "metadata": {
        "id": "7a40kt4hfNLT"
      },
      "source": [
        "Как эти три графика соотносятся с графиками асимптотической дисперсии усеченного среднего для всех этих распределений? Сделайте вывод.\n",
        "\n",
        "**Вывод:**"
      ]
    },
    {
      "cell_type": "markdown",
      "metadata": {
        "id": "f6g5G4VxKajS"
      },
      "source": [
        "# Задача 2\n",
        "\n",
        "## Wine dataset\n",
        "\n",
        "Давайте загрузим и проанализируем датасет, состоящий из различных показателей для красного вина и оценок сомелье. "
      ]
    },
    {
      "cell_type": "code",
      "metadata": {
        "id": "CmbrldSh_pY3",
        "colab": {
          "base_uri": "https://localhost:8080/"
        },
        "outputId": "8ecf554b-63a0-4402-8c0d-9e4e7d20a3eb"
      },
      "source": [
        "!pip install -q gdown\n",
        "!gdown https://drive.google.com/uc?id=1LsNeROfnVQb2ksdtwZvxrZREdy_Z-jta"
      ],
      "execution_count": null,
      "outputs": [
        {
          "output_type": "stream",
          "name": "stdout",
          "text": [
            "Downloading...\n",
            "From: https://drive.google.com/uc?id=1LsNeROfnVQb2ksdtwZvxrZREdy_Z-jta\n",
            "To: /content/winequality-red.csv\n",
            "\r  0% 0.00/101k [00:00<?, ?B/s]\r100% 101k/101k [00:00<00:00, 37.8MB/s]\n"
          ]
        }
      ]
    },
    {
      "cell_type": "code",
      "metadata": {
        "id": "zZV5mNhiKnku"
      },
      "source": [
        "import pandas as pd"
      ],
      "execution_count": null,
      "outputs": []
    },
    {
      "cell_type": "code",
      "metadata": {
        "id": "i1WooP5LKZ6g"
      },
      "source": [
        "data = pd.read_csv(\"winequality-red.csv\")"
      ],
      "execution_count": null,
      "outputs": []
    },
    {
      "cell_type": "code",
      "metadata": {
        "id": "TuQBzyPgLAnp",
        "colab": {
          "base_uri": "https://localhost:8080/",
          "height": 204
        },
        "outputId": "7f6097db-0c1c-41a1-ad1a-82da89d96708"
      },
      "source": [
        "data.head(5)"
      ],
      "execution_count": null,
      "outputs": [
        {
          "output_type": "execute_result",
          "data": {
            "text/html": [
              "<div>\n",
              "<style scoped>\n",
              "    .dataframe tbody tr th:only-of-type {\n",
              "        vertical-align: middle;\n",
              "    }\n",
              "\n",
              "    .dataframe tbody tr th {\n",
              "        vertical-align: top;\n",
              "    }\n",
              "\n",
              "    .dataframe thead th {\n",
              "        text-align: right;\n",
              "    }\n",
              "</style>\n",
              "<table border=\"1\" class=\"dataframe\">\n",
              "  <thead>\n",
              "    <tr style=\"text-align: right;\">\n",
              "      <th></th>\n",
              "      <th>fixed acidity</th>\n",
              "      <th>volatile acidity</th>\n",
              "      <th>citric acid</th>\n",
              "      <th>residual sugar</th>\n",
              "      <th>chlorides</th>\n",
              "      <th>free sulfur dioxide</th>\n",
              "      <th>total sulfur dioxide</th>\n",
              "      <th>density</th>\n",
              "      <th>pH</th>\n",
              "      <th>sulphates</th>\n",
              "      <th>alcohol</th>\n",
              "      <th>quality</th>\n",
              "    </tr>\n",
              "  </thead>\n",
              "  <tbody>\n",
              "    <tr>\n",
              "      <th>0</th>\n",
              "      <td>7.4</td>\n",
              "      <td>0.70</td>\n",
              "      <td>0.00</td>\n",
              "      <td>1.9</td>\n",
              "      <td>0.076</td>\n",
              "      <td>11.0</td>\n",
              "      <td>34.0</td>\n",
              "      <td>0.9978</td>\n",
              "      <td>3.51</td>\n",
              "      <td>0.56</td>\n",
              "      <td>9.4</td>\n",
              "      <td>5</td>\n",
              "    </tr>\n",
              "    <tr>\n",
              "      <th>1</th>\n",
              "      <td>7.8</td>\n",
              "      <td>0.88</td>\n",
              "      <td>0.00</td>\n",
              "      <td>2.6</td>\n",
              "      <td>0.098</td>\n",
              "      <td>25.0</td>\n",
              "      <td>67.0</td>\n",
              "      <td>0.9968</td>\n",
              "      <td>3.20</td>\n",
              "      <td>0.68</td>\n",
              "      <td>9.8</td>\n",
              "      <td>5</td>\n",
              "    </tr>\n",
              "    <tr>\n",
              "      <th>2</th>\n",
              "      <td>7.8</td>\n",
              "      <td>0.76</td>\n",
              "      <td>0.04</td>\n",
              "      <td>2.3</td>\n",
              "      <td>0.092</td>\n",
              "      <td>15.0</td>\n",
              "      <td>54.0</td>\n",
              "      <td>0.9970</td>\n",
              "      <td>3.26</td>\n",
              "      <td>0.65</td>\n",
              "      <td>9.8</td>\n",
              "      <td>5</td>\n",
              "    </tr>\n",
              "    <tr>\n",
              "      <th>3</th>\n",
              "      <td>11.2</td>\n",
              "      <td>0.28</td>\n",
              "      <td>0.56</td>\n",
              "      <td>1.9</td>\n",
              "      <td>0.075</td>\n",
              "      <td>17.0</td>\n",
              "      <td>60.0</td>\n",
              "      <td>0.9980</td>\n",
              "      <td>3.16</td>\n",
              "      <td>0.58</td>\n",
              "      <td>9.8</td>\n",
              "      <td>6</td>\n",
              "    </tr>\n",
              "    <tr>\n",
              "      <th>4</th>\n",
              "      <td>7.4</td>\n",
              "      <td>0.70</td>\n",
              "      <td>0.00</td>\n",
              "      <td>1.9</td>\n",
              "      <td>0.076</td>\n",
              "      <td>11.0</td>\n",
              "      <td>34.0</td>\n",
              "      <td>0.9978</td>\n",
              "      <td>3.51</td>\n",
              "      <td>0.56</td>\n",
              "      <td>9.4</td>\n",
              "      <td>5</td>\n",
              "    </tr>\n",
              "  </tbody>\n",
              "</table>\n",
              "</div>"
            ],
            "text/plain": [
              "   fixed acidity  volatile acidity  citric acid  ...  sulphates  alcohol  quality\n",
              "0            7.4              0.70         0.00  ...       0.56      9.4        5\n",
              "1            7.8              0.88         0.00  ...       0.68      9.8        5\n",
              "2            7.8              0.76         0.04  ...       0.65      9.8        5\n",
              "3           11.2              0.28         0.56  ...       0.58      9.8        6\n",
              "4            7.4              0.70         0.00  ...       0.56      9.4        5\n",
              "\n",
              "[5 rows x 12 columns]"
            ]
          },
          "metadata": {},
          "execution_count": 4
        }
      ]
    },
    {
      "cell_type": "markdown",
      "metadata": {
        "id": "Hlx-CEEa5WPH"
      },
      "source": [
        "Поделите вина на три категории по содержанию алкоголя. Добавьте колонку `\"category\"` со значениями `\"low alcohol\"`, `\"medium alcohol\"`, `\"high alcohol\"` для относительного объемного содержания алкоголя `x<=10`, `10 < x <= 12`, `x > 12` соответственно."
      ]
    },
    {
      "cell_type": "code",
      "metadata": {
        "id": "17caIXwfLUzj"
      },
      "source": [
        "#YOUR CODE GOES HERE"
      ],
      "execution_count": null,
      "outputs": []
    },
    {
      "cell_type": "markdown",
      "metadata": {
        "id": "Z9IZ7tqX8zAx"
      },
      "source": [
        "Для каждой категории посчитайте среднее и медиану содержания остаточного сахара (`\"residual sugar\"`). Сделайте pandas.DataFrame с индексами в виде категории содержания алкоголя и колнками в виде среднего и медианы."
      ]
    },
    {
      "cell_type": "code",
      "metadata": {
        "id": "7L8CwrQVXfeK"
      },
      "source": [
        "#YOUR CODE GOES HERE"
      ],
      "execution_count": null,
      "outputs": []
    },
    {
      "cell_type": "markdown",
      "metadata": {
        "id": "CtRFniPB9ifK"
      },
      "source": [
        "Что можно сказать о распределении сахара по этим категориям? О распределении остаточного сахара в целом?\n",
        "\n",
        "**Ответ:**"
      ]
    },
    {
      "cell_type": "markdown",
      "metadata": {
        "id": "dSXThd1y9pHs"
      },
      "source": [
        "Постройте `boxplot` для остаточного сахара по категориям, полученным ранее на основании доли алкоголя."
      ]
    },
    {
      "cell_type": "code",
      "metadata": {
        "id": "FVm-p0wKZ5OH"
      },
      "source": [
        "palette = sns.color_palette(\"viridis\", n_colors=3)[::-1]\n",
        "#YOUR CODE GOES HERE"
      ],
      "execution_count": null,
      "outputs": []
    },
    {
      "cell_type": "markdown",
      "metadata": {
        "id": "vU_DAToR-URe"
      },
      "source": [
        "Как соотнясятся оценки из предыдущего пункта и график сверху? Что лучше использовать для оценивания содержания сахара: медииану или среднее? Почему?\n",
        "\n",
        "**Ответ:**"
      ]
    },
    {
      "cell_type": "markdown",
      "metadata": {
        "id": "bzmwux7dAaSp"
      },
      "source": [
        "Постройте один `scatterplot` (используйте `seaborn`) для очень хороших и очень плохих вин (`quality == 3`, `quality == 8`) в зависимости от содержания алкоголя (`alcohol` **не** из предыдущего пункта, а из колонки исходного датасета) и от количества лимонной кислоты (`citric acid`). Используйте `palette=[palette[0]]+[palette[-1]]`."
      ]
    },
    {
      "cell_type": "code",
      "metadata": {
        "id": "Hc2yRTDlLDaG"
      },
      "source": [
        "#YOUR CODE GOES HERE"
      ],
      "execution_count": null,
      "outputs": []
    },
    {
      "cell_type": "markdown",
      "metadata": {
        "id": "pdsvN7uFEji3"
      },
      "source": [
        "Найдите ОМП для двух этих распределений в предположении, что обе выбоки из многомерного нормального распределения. Не мудрите, $\\mu$ и $\\Sigma$ получаются в одну команду через `numpy`. Далее получите плотности для сетки `X`, `Y`. Используйте `sps.multivariate_normal`."
      ]
    },
    {
      "cell_type": "code",
      "metadata": {
        "id": "l0VB4tpdBwWo"
      },
      "source": [
        "#YOUR CODE GOES HERE"
      ],
      "execution_count": null,
      "outputs": []
    },
    {
      "cell_type": "markdown",
      "metadata": {
        "id": "ia9vF4bQTUFQ"
      },
      "source": [
        "Нарисуйте график плотности с линиями контура и нанесите точки выборки. Используйте зеленый цвет для вина плохого качества (`get_density_cmap(\"Greens\")` и `\"g\"` для точек) и синий для вина хорошего качества (`get_density_cmap(\"Blues\")` и `\"b\"`). Используйте функции `plt.pcolormesh`, `plt.clabel` и `plt.scatter`. Не забудьте про `plt.xlabel`, `plt.ylabel` и `plt.legend`."
      ]
    },
    {
      "cell_type": "code",
      "metadata": {
        "id": "jq-uLueoJibS"
      },
      "source": [
        "from matplotlib.colors import ListedColormap\n",
        "\n",
        "def get_density_cmap(name):\n",
        "    cmap =  plt.get_cmap(name)\n",
        "    cmap_col = cmap(np.arange(cmap.N))\n",
        "    cmap_col[:, -1] = np.linspace(0, 1, cmap.N)**2\n",
        "    return ListedColormap(cmap_col)"
      ],
      "execution_count": null,
      "outputs": []
    },
    {
      "cell_type": "code",
      "metadata": {
        "id": "JFb55GhOHRQN"
      },
      "source": [
        "#YOUR CODE GOES HERE"
      ],
      "execution_count": null,
      "outputs": []
    },
    {
      "cell_type": "markdown",
      "metadata": {
        "id": "zmFv-DKlPvHF"
      },
      "source": [
        "Что можно сказать о вине, которому сомелье дали наивысший балл по сравнению с вином, которому дали наименьший балл, основываясь на график выше?\n",
        "\n",
        "**Ответ:**"
      ]
    },
    {
      "cell_type": "markdown",
      "metadata": {
        "id": "6UwuQBchAuca"
      },
      "source": [
        "# Задача 3\n",
        "\n",
        "Рассмотрим $X_1, ..., X_n \\sim Bern(\\theta)$. По сетке значений $\\theta \\in\n",
        "    [0, 1]$ с шагом 0.01 постройте график зависимости нижней оценки дисперсии\n",
        "    произвольной несмещенной оценки из неравенства Рао-Крамера от $\\theta$. "
      ]
    },
    {
      "cell_type": "code",
      "metadata": {
        "id": "RkrnX5mIDiQV"
      },
      "source": [
        ""
      ],
      "execution_count": null,
      "outputs": []
    },
    {
      "cell_type": "markdown",
      "metadata": {
        "id": "vp34WUJYb0E7"
      },
      "source": [
        "Какой можно сделать вывод (напишите в комментариях)?\n",
        "\n",
        "**Вывод**"
      ]
    },
    {
      "cell_type": "markdown",
      "metadata": {
        "id": "vUVSTzH6A15u"
      },
      "source": [
        " Для каждого значения $\\theta$ (для той же сетки) сгенерируйте выборку размера $n=1000$ для параметра $\\theta$, посчитайте эффективную оценку $\\theta$ и бутстрепную оценку дисперсии (количество бутстрепных выборок равно $1000$) этой эффективной оценки $\\theta$."
      ]
    },
    {
      "cell_type": "code",
      "metadata": {
        "id": "XWAipQlJELkf"
      },
      "source": [
        ""
      ],
      "execution_count": null,
      "outputs": []
    },
    {
      "cell_type": "markdown",
      "metadata": {
        "id": "VGkYd80FA5yJ"
      },
      "source": [
        " Нарисуйте график зависимости полученных бутстрепных оценок от $\\theta$."
      ]
    },
    {
      "cell_type": "code",
      "metadata": {
        "id": "zK7XOaRCEmjN"
      },
      "source": [
        ""
      ],
      "execution_count": null,
      "outputs": []
    },
    {
      "cell_type": "markdown",
      "metadata": {
        "id": "hTAjiXXShP2u"
      },
      "source": [
        "**Вывод**"
      ]
    },
    {
      "cell_type": "code",
      "metadata": {
        "id": "0YzNPValhSq1"
      },
      "source": [
        ""
      ],
      "execution_count": null,
      "outputs": []
    }
  ]
}